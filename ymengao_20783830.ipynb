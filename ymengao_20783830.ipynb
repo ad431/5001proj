{
  "nbformat": 4,
  "nbformat_minor": 0,
  "metadata": {
    "colab": {
      "name": "5001kaggle",
      "provenance": [],
      "collapsed_sections": []
    },
    "kernelspec": {
      "name": "python3",
      "display_name": "Python 3"
    },
    "language_info": {
      "name": "python"
    }
  },
  "cells": [
    {
      "cell_type": "code",
      "execution_count": null,
      "metadata": {
        "colab": {
          "base_uri": "https://localhost:8080/"
        },
        "id": "HyyZVbkI1uoB",
        "outputId": "56ae7d02-6c18-4eb0-c6f5-45c30aa2fe37"
      },
      "outputs": [
        {
          "output_type": "stream",
          "name": "stdout",
          "text": [
            "Mounted at /content/drive\n"
          ]
        }
      ],
      "source": [
        "from google.colab import drive\n",
        "drive.mount('/content/drive')"
      ]
    },
    {
      "cell_type": "code",
      "source": [
        "from sklearn.impute import SimpleImputer\n",
        "import pandas as pd\n",
        "import numpy as np"
      ],
      "metadata": {
        "id": "LtxU2dr23CDr"
      },
      "execution_count": null,
      "outputs": []
    },
    {
      "cell_type": "markdown",
      "source": [
        "# DATASET"
      ],
      "metadata": {
        "id": "_2qxEIOuQ1gF"
      }
    },
    {
      "cell_type": "code",
      "source": [
        "train = pd.read_csv('drive/MyDrive/Colab Notebooks/train.csv')"
      ],
      "metadata": {
        "id": "hcx67gtx2w1W"
      },
      "execution_count": null,
      "outputs": []
    },
    {
      "cell_type": "code",
      "source": [
        "test = pd.read_csv('drive/MyDrive/Colab Notebooks/test.csv')"
      ],
      "metadata": {
        "id": "IiLeycz73REW"
      },
      "execution_count": null,
      "outputs": []
    },
    {
      "cell_type": "code",
      "source": [
        "from sklearn import preprocessing\n",
        "def preprocessing_data(dataset,type):\n",
        "  df = dataset.fillna(dataset.mean()) # fill in missing values\n",
        "  df.drop(['id'], axis=1, inplace=True) # drop useless column\n",
        "  df_columns = [x for x in df.columns if x not in ['label']]\n",
        "  df = df[df_columns]\n",
        "  quantile_transformer = preprocessing.QuantileTransformer(output_distribution='normal', random_state=0) # normal distribution\n",
        "  x = quantile_transformer.fit_transform(df)\n",
        "  x = pd.DataFrame(x, columns = df_columns)\n",
        "  if type == 'train':\n",
        "    y= dataset.loc[:,'label']\n",
        "    return x,y\n",
        "  else:\n",
        "    return x\n",
        "\n",
        "x_train, y_train = preprocessing_data(train,'train')"
      ],
      "metadata": {
        "colab": {
          "base_uri": "https://localhost:8080/"
        },
        "id": "ygdAdxAXgmRX",
        "outputId": "cbf95ae7-a888-441d-bba3-4f8eb665d06b"
      },
      "execution_count": null,
      "outputs": [
        {
          "output_type": "stream",
          "name": "stderr",
          "text": [
            "/usr/local/lib/python3.7/dist-packages/sklearn/preprocessing/_data.py:2593: UserWarning: n_quantiles (1000) is greater than the total number of samples (87). n_quantiles is set to n_samples.\n",
            "  \"n_samples.\" % (self.n_quantiles, n_samples)\n"
          ]
        }
      ]
    },
    {
      "cell_type": "code",
      "source": [
        "x_train.head()"
      ],
      "metadata": {
        "colab": {
          "base_uri": "https://localhost:8080/",
          "height": 305
        },
        "id": "CRixJfoViQgl",
        "outputId": "933a6f98-f946-4c5f-9b39-f7ec41953a0c"
      },
      "execution_count": null,
      "outputs": [
        {
          "output_type": "execute_result",
          "data": {
            "text/plain": [
              "   MO HLADR+ MFI (cells/ul)  Neu CD64+MFI (cells/ul)  CD3+T (cells/ul)  \\\n",
              "0                  2.269206                 2.269206         -1.813418   \n",
              "1                  0.936847                 0.131539          0.983053   \n",
              "2                  0.620568                -0.936847          0.769055   \n",
              "3                 -0.692900                -0.420092         -1.082411   \n",
              "4                 -0.235329                -0.936847          0.357216   \n",
              "\n",
              "   CD8+T (cells/ul)  CD4+T (cells/ul)  NK (cells/ul)  CD19+ (cells/ul)  \\\n",
              "0         -2.269206         -1.322365      -5.199338         -5.199338   \n",
              "1          0.420092          1.322365      -0.484675          0.769055   \n",
              "2          0.936847          0.808844       0.388462          1.193795   \n",
              "3         -0.620568         -1.477525      -0.808844         -0.849957   \n",
              "4          0.146254          0.692900       0.000000          0.551348   \n",
              "\n",
              "   CD45+ (cells/ul)       Age  Sex 0M1F  Mono CD64+MFI (cells/ul)  \n",
              "0         -2.269206  1.224058 -5.199338                  5.199338  \n",
              "1          0.769055 -1.894644  5.199338                 -0.029151  \n",
              "2          0.808844 -1.108973  5.199338                 -0.936847  \n",
              "3         -1.082411  1.622711  5.199338                 -0.711549  \n",
              "4          0.235329 -1.108973  5.199338                 -0.551348  "
            ],
            "text/html": [
              "\n",
              "  <div id=\"df-8c3086b9-3eb9-4761-8e1f-2fe05b3d85be\">\n",
              "    <div class=\"colab-df-container\">\n",
              "      <div>\n",
              "<style scoped>\n",
              "    .dataframe tbody tr th:only-of-type {\n",
              "        vertical-align: middle;\n",
              "    }\n",
              "\n",
              "    .dataframe tbody tr th {\n",
              "        vertical-align: top;\n",
              "    }\n",
              "\n",
              "    .dataframe thead th {\n",
              "        text-align: right;\n",
              "    }\n",
              "</style>\n",
              "<table border=\"1\" class=\"dataframe\">\n",
              "  <thead>\n",
              "    <tr style=\"text-align: right;\">\n",
              "      <th></th>\n",
              "      <th>MO HLADR+ MFI (cells/ul)</th>\n",
              "      <th>Neu CD64+MFI (cells/ul)</th>\n",
              "      <th>CD3+T (cells/ul)</th>\n",
              "      <th>CD8+T (cells/ul)</th>\n",
              "      <th>CD4+T (cells/ul)</th>\n",
              "      <th>NK (cells/ul)</th>\n",
              "      <th>CD19+ (cells/ul)</th>\n",
              "      <th>CD45+ (cells/ul)</th>\n",
              "      <th>Age</th>\n",
              "      <th>Sex 0M1F</th>\n",
              "      <th>Mono CD64+MFI (cells/ul)</th>\n",
              "    </tr>\n",
              "  </thead>\n",
              "  <tbody>\n",
              "    <tr>\n",
              "      <th>0</th>\n",
              "      <td>2.269206</td>\n",
              "      <td>2.269206</td>\n",
              "      <td>-1.813418</td>\n",
              "      <td>-2.269206</td>\n",
              "      <td>-1.322365</td>\n",
              "      <td>-5.199338</td>\n",
              "      <td>-5.199338</td>\n",
              "      <td>-2.269206</td>\n",
              "      <td>1.224058</td>\n",
              "      <td>-5.199338</td>\n",
              "      <td>5.199338</td>\n",
              "    </tr>\n",
              "    <tr>\n",
              "      <th>1</th>\n",
              "      <td>0.936847</td>\n",
              "      <td>0.131539</td>\n",
              "      <td>0.983053</td>\n",
              "      <td>0.420092</td>\n",
              "      <td>1.322365</td>\n",
              "      <td>-0.484675</td>\n",
              "      <td>0.769055</td>\n",
              "      <td>0.769055</td>\n",
              "      <td>-1.894644</td>\n",
              "      <td>5.199338</td>\n",
              "      <td>-0.029151</td>\n",
              "    </tr>\n",
              "    <tr>\n",
              "      <th>2</th>\n",
              "      <td>0.620568</td>\n",
              "      <td>-0.936847</td>\n",
              "      <td>0.769055</td>\n",
              "      <td>0.936847</td>\n",
              "      <td>0.808844</td>\n",
              "      <td>0.388462</td>\n",
              "      <td>1.193795</td>\n",
              "      <td>0.808844</td>\n",
              "      <td>-1.108973</td>\n",
              "      <td>5.199338</td>\n",
              "      <td>-0.936847</td>\n",
              "    </tr>\n",
              "    <tr>\n",
              "      <th>3</th>\n",
              "      <td>-0.692900</td>\n",
              "      <td>-0.420092</td>\n",
              "      <td>-1.082411</td>\n",
              "      <td>-0.620568</td>\n",
              "      <td>-1.477525</td>\n",
              "      <td>-0.808844</td>\n",
              "      <td>-0.849957</td>\n",
              "      <td>-1.082411</td>\n",
              "      <td>1.622711</td>\n",
              "      <td>5.199338</td>\n",
              "      <td>-0.711549</td>\n",
              "    </tr>\n",
              "    <tr>\n",
              "      <th>4</th>\n",
              "      <td>-0.235329</td>\n",
              "      <td>-0.936847</td>\n",
              "      <td>0.357216</td>\n",
              "      <td>0.146254</td>\n",
              "      <td>0.692900</td>\n",
              "      <td>0.000000</td>\n",
              "      <td>0.551348</td>\n",
              "      <td>0.235329</td>\n",
              "      <td>-1.108973</td>\n",
              "      <td>5.199338</td>\n",
              "      <td>-0.551348</td>\n",
              "    </tr>\n",
              "  </tbody>\n",
              "</table>\n",
              "</div>\n",
              "      <button class=\"colab-df-convert\" onclick=\"convertToInteractive('df-8c3086b9-3eb9-4761-8e1f-2fe05b3d85be')\"\n",
              "              title=\"Convert this dataframe to an interactive table.\"\n",
              "              style=\"display:none;\">\n",
              "        \n",
              "  <svg xmlns=\"http://www.w3.org/2000/svg\" height=\"24px\"viewBox=\"0 0 24 24\"\n",
              "       width=\"24px\">\n",
              "    <path d=\"M0 0h24v24H0V0z\" fill=\"none\"/>\n",
              "    <path d=\"M18.56 5.44l.94 2.06.94-2.06 2.06-.94-2.06-.94-.94-2.06-.94 2.06-2.06.94zm-11 1L8.5 8.5l.94-2.06 2.06-.94-2.06-.94L8.5 2.5l-.94 2.06-2.06.94zm10 10l.94 2.06.94-2.06 2.06-.94-2.06-.94-.94-2.06-.94 2.06-2.06.94z\"/><path d=\"M17.41 7.96l-1.37-1.37c-.4-.4-.92-.59-1.43-.59-.52 0-1.04.2-1.43.59L10.3 9.45l-7.72 7.72c-.78.78-.78 2.05 0 2.83L4 21.41c.39.39.9.59 1.41.59.51 0 1.02-.2 1.41-.59l7.78-7.78 2.81-2.81c.8-.78.8-2.07 0-2.86zM5.41 20L4 18.59l7.72-7.72 1.47 1.35L5.41 20z\"/>\n",
              "  </svg>\n",
              "      </button>\n",
              "      \n",
              "  <style>\n",
              "    .colab-df-container {\n",
              "      display:flex;\n",
              "      flex-wrap:wrap;\n",
              "      gap: 12px;\n",
              "    }\n",
              "\n",
              "    .colab-df-convert {\n",
              "      background-color: #E8F0FE;\n",
              "      border: none;\n",
              "      border-radius: 50%;\n",
              "      cursor: pointer;\n",
              "      display: none;\n",
              "      fill: #1967D2;\n",
              "      height: 32px;\n",
              "      padding: 0 0 0 0;\n",
              "      width: 32px;\n",
              "    }\n",
              "\n",
              "    .colab-df-convert:hover {\n",
              "      background-color: #E2EBFA;\n",
              "      box-shadow: 0px 1px 2px rgba(60, 64, 67, 0.3), 0px 1px 3px 1px rgba(60, 64, 67, 0.15);\n",
              "      fill: #174EA6;\n",
              "    }\n",
              "\n",
              "    [theme=dark] .colab-df-convert {\n",
              "      background-color: #3B4455;\n",
              "      fill: #D2E3FC;\n",
              "    }\n",
              "\n",
              "    [theme=dark] .colab-df-convert:hover {\n",
              "      background-color: #434B5C;\n",
              "      box-shadow: 0px 1px 3px 1px rgba(0, 0, 0, 0.15);\n",
              "      filter: drop-shadow(0px 1px 2px rgba(0, 0, 0, 0.3));\n",
              "      fill: #FFFFFF;\n",
              "    }\n",
              "  </style>\n",
              "\n",
              "      <script>\n",
              "        const buttonEl =\n",
              "          document.querySelector('#df-8c3086b9-3eb9-4761-8e1f-2fe05b3d85be button.colab-df-convert');\n",
              "        buttonEl.style.display =\n",
              "          google.colab.kernel.accessAllowed ? 'block' : 'none';\n",
              "\n",
              "        async function convertToInteractive(key) {\n",
              "          const element = document.querySelector('#df-8c3086b9-3eb9-4761-8e1f-2fe05b3d85be');\n",
              "          const dataTable =\n",
              "            await google.colab.kernel.invokeFunction('convertToInteractive',\n",
              "                                                     [key], {});\n",
              "          if (!dataTable) return;\n",
              "\n",
              "          const docLinkHtml = 'Like what you see? Visit the ' +\n",
              "            '<a target=\"_blank\" href=https://colab.research.google.com/notebooks/data_table.ipynb>data table notebook</a>'\n",
              "            + ' to learn more about interactive tables.';\n",
              "          element.innerHTML = '';\n",
              "          dataTable['output_type'] = 'display_data';\n",
              "          await google.colab.output.renderOutput(dataTable, element);\n",
              "          const docLink = document.createElement('div');\n",
              "          docLink.innerHTML = docLinkHtml;\n",
              "          element.appendChild(docLink);\n",
              "        }\n",
              "      </script>\n",
              "    </div>\n",
              "  </div>\n",
              "  "
            ]
          },
          "metadata": {},
          "execution_count": 92
        }
      ]
    },
    {
      "cell_type": "markdown",
      "source": [
        "# Train"
      ],
      "metadata": {
        "id": "jSIfqJ35X-fG"
      }
    },
    {
      "cell_type": "code",
      "source": [
        "from sklearn.ensemble import RandomForestClassifier\n",
        "rfc = RandomForestClassifier( n_estimators=200, criterion='gini', oob_score=True, random_state=10)\n",
        "rfc.fit(x_train,y_train)"
      ],
      "metadata": {
        "colab": {
          "base_uri": "https://localhost:8080/"
        },
        "id": "ejlxy46kedLC",
        "outputId": "8e3ec7ac-b033-4e2e-d2c3-756bd3634d7d"
      },
      "execution_count": null,
      "outputs": [
        {
          "output_type": "execute_result",
          "data": {
            "text/plain": [
              "RandomForestClassifier(n_estimators=200, oob_score=True, random_state=10)"
            ]
          },
          "metadata": {},
          "execution_count": 100
        }
      ]
    },
    {
      "cell_type": "markdown",
      "source": [
        "# Test"
      ],
      "metadata": {
        "id": "MQkowsvJZUlE"
      }
    },
    {
      "cell_type": "code",
      "source": [
        "x_test = preprocessing_data(test,'test')\n",
        "y_pred = rfc.predict(x_test)\n",
        "output=pd.DataFrame(y_pred.astype(np.int32),columns=['label'])\n",
        "output['id']=range(output.shape[0])\n",
        "output=output.loc[:,['id','label']]\n",
        "output.to_csv('/content/drive/MyDrive/Colab Notebooks/submission.csv',index=False)\n",
        " "
      ],
      "metadata": {
        "colab": {
          "base_uri": "https://localhost:8080/"
        },
        "id": "Z9rKhZ2vt_T4",
        "outputId": "e41ec27d-ed6a-48f9-fc86-6a8d42d6be9d"
      },
      "execution_count": null,
      "outputs": [
        {
          "output_type": "stream",
          "name": "stderr",
          "text": [
            "/usr/local/lib/python3.7/dist-packages/sklearn/preprocessing/_data.py:2593: UserWarning: n_quantiles (1000) is greater than the total number of samples (59). n_quantiles is set to n_samples.\n",
            "  \"n_samples.\" % (self.n_quantiles, n_samples)\n"
          ]
        }
      ]
    },
    {
      "cell_type": "markdown",
      "source": [
        "# Save the model"
      ],
      "metadata": {
        "id": "YzHV9-C9cRdb"
      }
    },
    {
      "cell_type": "code",
      "source": [
        "import joblib\n",
        "joblib.dump(rfc, 'rfc.model')\n",
        "#rfc = joblib.load('rfc.model')"
      ],
      "metadata": {
        "colab": {
          "base_uri": "https://localhost:8080/"
        },
        "id": "2dJuw7ncb9Il",
        "outputId": "263f7633-e591-4c46-f971-8fcb286295dc"
      },
      "execution_count": null,
      "outputs": [
        {
          "output_type": "execute_result",
          "data": {
            "text/plain": [
              "['rfc.model']"
            ]
          },
          "metadata": {},
          "execution_count": 70
        }
      ]
    },
    {
      "cell_type": "code",
      "source": [
        ""
      ],
      "metadata": {
        "id": "pTDnJypvdrcd"
      },
      "execution_count": null,
      "outputs": []
    }
  ]
}